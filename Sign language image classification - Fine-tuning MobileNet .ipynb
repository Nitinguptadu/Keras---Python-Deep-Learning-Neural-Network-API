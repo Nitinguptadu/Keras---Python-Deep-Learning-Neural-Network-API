{
 "cells": [
  {
   "cell_type": "code",
   "execution_count": 1,
   "metadata": {},
   "outputs": [
    {
     "name": "stdout",
     "output_type": "stream",
     "text": [
      "/home/v-nitin.gupta/Desktop/keras/Sign-Language-Digits-Dataset\n"
     ]
    }
   ],
   "source": [
    "%cd Sign-Language-Digits-Dataset\n",
    "\n",
    "\n"
   ]
  },
  {
   "cell_type": "code",
   "execution_count": 2,
   "metadata": {},
   "outputs": [
    {
     "name": "stdout",
     "output_type": "stream",
     "text": [
      "mkdir: cannot create directory ‘train’: File exists\n",
      "mkdir: cannot create directory ‘valid’: File exists\n",
      "mkdir: cannot create directory ‘test’: File exists\n"
     ]
    }
   ],
   "source": [
    "%mkdir train\n",
    "%mkdir valid\n",
    "%mkdir test"
   ]
  },
  {
   "cell_type": "code",
   "execution_count": 3,
   "metadata": {},
   "outputs": [
    {
     "name": "stdout",
     "output_type": "stream",
     "text": [
      "/home/v-nitin.gupta/Desktop/keras/Sign-Language-Digits-Dataset/valid\n"
     ]
    }
   ],
   "source": [
    "%cd valid\n"
   ]
  },
  {
   "cell_type": "code",
   "execution_count": 4,
   "metadata": {},
   "outputs": [
    {
     "name": "stdout",
     "output_type": "stream",
     "text": [
      "mkdir: cannot create directory ‘0’: File exists\n",
      "mkdir: cannot create directory ‘1’: File exists\n",
      "mkdir: cannot create directory ‘2’: File exists\n",
      "mkdir: cannot create directory ‘3’: File exists\n",
      "mkdir: cannot create directory ‘4’: File exists\n",
      "mkdir: cannot create directory ‘5’: File exists\n",
      "mkdir: cannot create directory ‘6’: File exists\n",
      "mkdir: cannot create directory ‘7’: File exists\n",
      "mkdir: cannot create directory ‘8’: File exists\n",
      "mkdir: cannot create directory ‘9’: File exists\n"
     ]
    }
   ],
   "source": [
    "%mkdir 0\n",
    "%mkdir 1\n",
    "%mkdir 2\n",
    "%mkdir 3\n",
    "%mkdir 4\n",
    "%mkdir 5\n",
    "%mkdir 6\n",
    "%mkdir 7\n",
    "%mkdir 8\n",
    "%mkdir 9"
   ]
  },
  {
   "cell_type": "code",
   "execution_count": 5,
   "metadata": {},
   "outputs": [
    {
     "name": "stdout",
     "output_type": "stream",
     "text": [
      "/home/v-nitin.gupta/Desktop/keras/Sign-Language-Digits-Dataset/test\n",
      "mkdir: cannot create directory ‘0’: File exists\n",
      "mkdir: cannot create directory ‘1’: File exists\n",
      "mkdir: cannot create directory ‘2’: File exists\n",
      "mkdir: cannot create directory ‘3’: File exists\n",
      "mkdir: cannot create directory ‘4’: File exists\n",
      "mkdir: cannot create directory ‘5’: File exists\n",
      "mkdir: cannot create directory ‘6’: File exists\n",
      "mkdir: cannot create directory ‘7’: File exists\n",
      "mkdir: cannot create directory ‘8’: File exists\n",
      "mkdir: cannot create directory ‘9’: File exists\n"
     ]
    }
   ],
   "source": [
    "%cd ../test/\n",
    "%mkdir 0\n",
    "%mkdir 1\n",
    "%mkdir 2\n",
    "%mkdir 3\n",
    "%mkdir 4\n",
    "%mkdir 5\n",
    "%mkdir 6\n",
    "%mkdir 7\n",
    "%mkdir 8\n",
    "%mkdir 9"
   ]
  },
  {
   "cell_type": "code",
   "execution_count": 6,
   "metadata": {},
   "outputs": [],
   "source": [
    "%%bash    \n",
    "cd ../train/\n",
    "for ((i=0;i<=9;i++)); do\n",
    "    a=$(find $i/ -type f | shuf -n 30)\n",
    "    mv $a ../valid/$i/\n",
    "     a=$(find $i/ -type f | shuf -n 5)\n",
    "    mv $a ../test/$i/\n",
    "    \n",
    "done\n",
    "\n",
    "\n",
    "   "
   ]
  },
  {
   "cell_type": "code",
   "execution_count": 7,
   "metadata": {},
   "outputs": [
    {
     "name": "stderr",
     "output_type": "stream",
     "text": [
      "WARNING (theano.tensor.blas): Using NumPy C-API based implementation for BLAS functions.\n",
      "Using TensorFlow backend.\n"
     ]
    }
   ],
   "source": [
    "import theano\n",
    "import keras\n",
    "\n",
    "from keras import backend as k\n",
    "from keras.models import Sequential\n",
    "from keras.layers import Layer\n",
    "from keras.layers import Dense\n",
    "from keras.optimizers import Adam\n",
    "from keras.metrics import categorical_crossentropy\n",
    "from keras.preprocessing.image import  ImageDataGenerator\n",
    "from keras.layers.normalization import BatchNormalization\n",
    "from keras.layers.convolutional import *\n",
    "from keras.layers import Flatten\n",
    "from matplotlib import pyplot as plt\n",
    "from sklearn.metrics import confusion_matrix\n",
    "from keras.models import Model\n",
    "import itertools\n",
    "import numpy as np\n",
    "import pandas as pd\n",
    "%matplotlib inline"
   ]
  },
  {
   "cell_type": "code",
   "execution_count": 31,
   "metadata": {},
   "outputs": [],
   "source": [
    "import numpy as np\n",
    "import keras\n",
    "from keras import backend as K\n",
    "from keras.models import Sequential\n",
    "from keras.layers import Activation\n",
    "from keras.layers.core import Dense, Flatten\n",
    "from keras.optimizers import Adam\n",
    "from keras.metrics import categorical_crossentropy\n",
    "from keras.preprocessing.image import ImageDataGenerator\n",
    "from keras.layers.normalization import BatchNormalization\n",
    "from keras.layers.convolutional import *\n",
    "from sklearn.metrics import confusion_matrix\n",
    "import itertools\n",
    "import matplotlib.pyplot as plt\n",
    "%matplotlib inline"
   ]
  },
  {
   "cell_type": "code",
   "execution_count": 8,
   "metadata": {},
   "outputs": [],
   "source": [
    "train_path = \"/home/v-nitin.gupta/Desktop/keras/Sign-Language-Digits-Dataset/train/\"\n",
    "\n",
    "test_path = \"/home/v-nitin.gupta/Desktop/keras/Sign-Language-Digits-Dataset/test/\"\n",
    "\n",
    "validation_path = \"/home/v-nitin.gupta/Desktop/keras/Sign-Language-Digits-Dataset/valid/\""
   ]
  },
  {
   "cell_type": "code",
   "execution_count": 9,
   "metadata": {},
   "outputs": [
    {
     "name": "stdout",
     "output_type": "stream",
     "text": [
      "Found 1712 images belonging to 10 classes.\n",
      "Found 50 images belonging to 10 classes.\n",
      "Found 300 images belonging to 10 classes.\n"
     ]
    }
   ],
   "source": [
    "train_batches = ImageDataGenerator(preprocessing_function=keras.applications.mobilenet.preprocess_input).flow_from_directory(train_path,target_size=(224,224),classes=[\"0\",\"1\",\"2\",\"3\",\"4\",\"5\",\"6\",\"7\",\"8\",\"9\"],batch_size=10)\n",
    "\n",
    "test_batches = ImageDataGenerator(preprocessing_function=keras.applications.mobilenet.preprocess_input).flow_from_directory(test_path,target_size=(224,224),classes=[\"0\",\"1\",\"2\",\"3\",\"4\",\"5\",\"6\",\"7\",\"8\",\"9\"],batch_size=10,shuffle=False)\n",
    "\n",
    "validation_batches = ImageDataGenerator(preprocessing_function=keras.applications.mobilenet.preprocess_input).flow_from_directory(validation_path,target_size=(224,224),classes=[\"0\",\"1\",\"2\",\"3\",\"4\",\"5\",\"6\",\"7\",\"8\",\"9\"],batch_size=10)"
   ]
  },
  {
   "cell_type": "code",
   "execution_count": 10,
   "metadata": {},
   "outputs": [
    {
     "name": "stdout",
     "output_type": "stream",
     "text": [
      "WARNING:tensorflow:From /home/v-nitin.gupta/anaconda3/lib/python3.7/site-packages/tensorflow/python/framework/op_def_library.py:263: colocate_with (from tensorflow.python.framework.ops) is deprecated and will be removed in a future version.\n",
      "Instructions for updating:\n",
      "Colocations handled automatically by placer.\n",
      "WARNING:tensorflow:From /home/v-nitin.gupta/anaconda3/lib/python3.7/site-packages/keras/backend/tensorflow_backend.py:3445: calling dropout (from tensorflow.python.ops.nn_ops) with keep_prob is deprecated and will be removed in a future version.\n",
      "Instructions for updating:\n",
      "Please use `rate` instead of `keep_prob`. Rate should be set to `rate = 1 - keep_prob`.\n"
     ]
    }
   ],
   "source": [
    "mobile = keras.applications.mobilenet.MobileNet()"
   ]
  },
  {
   "cell_type": "code",
   "execution_count": 11,
   "metadata": {},
   "outputs": [
    {
     "name": "stdout",
     "output_type": "stream",
     "text": [
      "_________________________________________________________________\n",
      "Layer (type)                 Output Shape              Param #   \n",
      "=================================================================\n",
      "input_1 (InputLayer)         (None, 224, 224, 3)       0         \n",
      "_________________________________________________________________\n",
      "conv1_pad (ZeroPadding2D)    (None, 225, 225, 3)       0         \n",
      "_________________________________________________________________\n",
      "conv1 (Conv2D)               (None, 112, 112, 32)      864       \n",
      "_________________________________________________________________\n",
      "conv1_bn (BatchNormalization (None, 112, 112, 32)      128       \n",
      "_________________________________________________________________\n",
      "conv1_relu (ReLU)            (None, 112, 112, 32)      0         \n",
      "_________________________________________________________________\n",
      "conv_dw_1 (DepthwiseConv2D)  (None, 112, 112, 32)      288       \n",
      "_________________________________________________________________\n",
      "conv_dw_1_bn (BatchNormaliza (None, 112, 112, 32)      128       \n",
      "_________________________________________________________________\n",
      "conv_dw_1_relu (ReLU)        (None, 112, 112, 32)      0         \n",
      "_________________________________________________________________\n",
      "conv_pw_1 (Conv2D)           (None, 112, 112, 64)      2048      \n",
      "_________________________________________________________________\n",
      "conv_pw_1_bn (BatchNormaliza (None, 112, 112, 64)      256       \n",
      "_________________________________________________________________\n",
      "conv_pw_1_relu (ReLU)        (None, 112, 112, 64)      0         \n",
      "_________________________________________________________________\n",
      "conv_pad_2 (ZeroPadding2D)   (None, 113, 113, 64)      0         \n",
      "_________________________________________________________________\n",
      "conv_dw_2 (DepthwiseConv2D)  (None, 56, 56, 64)        576       \n",
      "_________________________________________________________________\n",
      "conv_dw_2_bn (BatchNormaliza (None, 56, 56, 64)        256       \n",
      "_________________________________________________________________\n",
      "conv_dw_2_relu (ReLU)        (None, 56, 56, 64)        0         \n",
      "_________________________________________________________________\n",
      "conv_pw_2 (Conv2D)           (None, 56, 56, 128)       8192      \n",
      "_________________________________________________________________\n",
      "conv_pw_2_bn (BatchNormaliza (None, 56, 56, 128)       512       \n",
      "_________________________________________________________________\n",
      "conv_pw_2_relu (ReLU)        (None, 56, 56, 128)       0         \n",
      "_________________________________________________________________\n",
      "conv_dw_3 (DepthwiseConv2D)  (None, 56, 56, 128)       1152      \n",
      "_________________________________________________________________\n",
      "conv_dw_3_bn (BatchNormaliza (None, 56, 56, 128)       512       \n",
      "_________________________________________________________________\n",
      "conv_dw_3_relu (ReLU)        (None, 56, 56, 128)       0         \n",
      "_________________________________________________________________\n",
      "conv_pw_3 (Conv2D)           (None, 56, 56, 128)       16384     \n",
      "_________________________________________________________________\n",
      "conv_pw_3_bn (BatchNormaliza (None, 56, 56, 128)       512       \n",
      "_________________________________________________________________\n",
      "conv_pw_3_relu (ReLU)        (None, 56, 56, 128)       0         \n",
      "_________________________________________________________________\n",
      "conv_pad_4 (ZeroPadding2D)   (None, 57, 57, 128)       0         \n",
      "_________________________________________________________________\n",
      "conv_dw_4 (DepthwiseConv2D)  (None, 28, 28, 128)       1152      \n",
      "_________________________________________________________________\n",
      "conv_dw_4_bn (BatchNormaliza (None, 28, 28, 128)       512       \n",
      "_________________________________________________________________\n",
      "conv_dw_4_relu (ReLU)        (None, 28, 28, 128)       0         \n",
      "_________________________________________________________________\n",
      "conv_pw_4 (Conv2D)           (None, 28, 28, 256)       32768     \n",
      "_________________________________________________________________\n",
      "conv_pw_4_bn (BatchNormaliza (None, 28, 28, 256)       1024      \n",
      "_________________________________________________________________\n",
      "conv_pw_4_relu (ReLU)        (None, 28, 28, 256)       0         \n",
      "_________________________________________________________________\n",
      "conv_dw_5 (DepthwiseConv2D)  (None, 28, 28, 256)       2304      \n",
      "_________________________________________________________________\n",
      "conv_dw_5_bn (BatchNormaliza (None, 28, 28, 256)       1024      \n",
      "_________________________________________________________________\n",
      "conv_dw_5_relu (ReLU)        (None, 28, 28, 256)       0         \n",
      "_________________________________________________________________\n",
      "conv_pw_5 (Conv2D)           (None, 28, 28, 256)       65536     \n",
      "_________________________________________________________________\n",
      "conv_pw_5_bn (BatchNormaliza (None, 28, 28, 256)       1024      \n",
      "_________________________________________________________________\n",
      "conv_pw_5_relu (ReLU)        (None, 28, 28, 256)       0         \n",
      "_________________________________________________________________\n",
      "conv_pad_6 (ZeroPadding2D)   (None, 29, 29, 256)       0         \n",
      "_________________________________________________________________\n",
      "conv_dw_6 (DepthwiseConv2D)  (None, 14, 14, 256)       2304      \n",
      "_________________________________________________________________\n",
      "conv_dw_6_bn (BatchNormaliza (None, 14, 14, 256)       1024      \n",
      "_________________________________________________________________\n",
      "conv_dw_6_relu (ReLU)        (None, 14, 14, 256)       0         \n",
      "_________________________________________________________________\n",
      "conv_pw_6 (Conv2D)           (None, 14, 14, 512)       131072    \n",
      "_________________________________________________________________\n",
      "conv_pw_6_bn (BatchNormaliza (None, 14, 14, 512)       2048      \n",
      "_________________________________________________________________\n",
      "conv_pw_6_relu (ReLU)        (None, 14, 14, 512)       0         \n",
      "_________________________________________________________________\n",
      "conv_dw_7 (DepthwiseConv2D)  (None, 14, 14, 512)       4608      \n",
      "_________________________________________________________________\n",
      "conv_dw_7_bn (BatchNormaliza (None, 14, 14, 512)       2048      \n",
      "_________________________________________________________________\n",
      "conv_dw_7_relu (ReLU)        (None, 14, 14, 512)       0         \n",
      "_________________________________________________________________\n",
      "conv_pw_7 (Conv2D)           (None, 14, 14, 512)       262144    \n",
      "_________________________________________________________________\n",
      "conv_pw_7_bn (BatchNormaliza (None, 14, 14, 512)       2048      \n",
      "_________________________________________________________________\n",
      "conv_pw_7_relu (ReLU)        (None, 14, 14, 512)       0         \n",
      "_________________________________________________________________\n",
      "conv_dw_8 (DepthwiseConv2D)  (None, 14, 14, 512)       4608      \n",
      "_________________________________________________________________\n",
      "conv_dw_8_bn (BatchNormaliza (None, 14, 14, 512)       2048      \n",
      "_________________________________________________________________\n",
      "conv_dw_8_relu (ReLU)        (None, 14, 14, 512)       0         \n",
      "_________________________________________________________________\n",
      "conv_pw_8 (Conv2D)           (None, 14, 14, 512)       262144    \n",
      "_________________________________________________________________\n",
      "conv_pw_8_bn (BatchNormaliza (None, 14, 14, 512)       2048      \n",
      "_________________________________________________________________\n",
      "conv_pw_8_relu (ReLU)        (None, 14, 14, 512)       0         \n",
      "_________________________________________________________________\n",
      "conv_dw_9 (DepthwiseConv2D)  (None, 14, 14, 512)       4608      \n",
      "_________________________________________________________________\n",
      "conv_dw_9_bn (BatchNormaliza (None, 14, 14, 512)       2048      \n",
      "_________________________________________________________________\n",
      "conv_dw_9_relu (ReLU)        (None, 14, 14, 512)       0         \n",
      "_________________________________________________________________\n",
      "conv_pw_9 (Conv2D)           (None, 14, 14, 512)       262144    \n",
      "_________________________________________________________________\n",
      "conv_pw_9_bn (BatchNormaliza (None, 14, 14, 512)       2048      \n",
      "_________________________________________________________________\n",
      "conv_pw_9_relu (ReLU)        (None, 14, 14, 512)       0         \n",
      "_________________________________________________________________\n",
      "conv_dw_10 (DepthwiseConv2D) (None, 14, 14, 512)       4608      \n",
      "_________________________________________________________________\n",
      "conv_dw_10_bn (BatchNormaliz (None, 14, 14, 512)       2048      \n",
      "_________________________________________________________________\n",
      "conv_dw_10_relu (ReLU)       (None, 14, 14, 512)       0         \n",
      "_________________________________________________________________\n",
      "conv_pw_10 (Conv2D)          (None, 14, 14, 512)       262144    \n",
      "_________________________________________________________________\n",
      "conv_pw_10_bn (BatchNormaliz (None, 14, 14, 512)       2048      \n",
      "_________________________________________________________________\n",
      "conv_pw_10_relu (ReLU)       (None, 14, 14, 512)       0         \n",
      "_________________________________________________________________\n",
      "conv_dw_11 (DepthwiseConv2D) (None, 14, 14, 512)       4608      \n",
      "_________________________________________________________________\n",
      "conv_dw_11_bn (BatchNormaliz (None, 14, 14, 512)       2048      \n",
      "_________________________________________________________________\n",
      "conv_dw_11_relu (ReLU)       (None, 14, 14, 512)       0         \n",
      "_________________________________________________________________\n",
      "conv_pw_11 (Conv2D)          (None, 14, 14, 512)       262144    \n",
      "_________________________________________________________________\n",
      "conv_pw_11_bn (BatchNormaliz (None, 14, 14, 512)       2048      \n",
      "_________________________________________________________________\n",
      "conv_pw_11_relu (ReLU)       (None, 14, 14, 512)       0         \n",
      "_________________________________________________________________\n",
      "conv_pad_12 (ZeroPadding2D)  (None, 15, 15, 512)       0         \n",
      "_________________________________________________________________\n",
      "conv_dw_12 (DepthwiseConv2D) (None, 7, 7, 512)         4608      \n",
      "_________________________________________________________________\n",
      "conv_dw_12_bn (BatchNormaliz (None, 7, 7, 512)         2048      \n",
      "_________________________________________________________________\n",
      "conv_dw_12_relu (ReLU)       (None, 7, 7, 512)         0         \n",
      "_________________________________________________________________\n",
      "conv_pw_12 (Conv2D)          (None, 7, 7, 1024)        524288    \n",
      "_________________________________________________________________\n",
      "conv_pw_12_bn (BatchNormaliz (None, 7, 7, 1024)        4096      \n",
      "_________________________________________________________________\n",
      "conv_pw_12_relu (ReLU)       (None, 7, 7, 1024)        0         \n",
      "_________________________________________________________________\n",
      "conv_dw_13 (DepthwiseConv2D) (None, 7, 7, 1024)        9216      \n",
      "_________________________________________________________________\n",
      "conv_dw_13_bn (BatchNormaliz (None, 7, 7, 1024)        4096      \n",
      "_________________________________________________________________\n",
      "conv_dw_13_relu (ReLU)       (None, 7, 7, 1024)        0         \n",
      "_________________________________________________________________\n",
      "conv_pw_13 (Conv2D)          (None, 7, 7, 1024)        1048576   \n",
      "_________________________________________________________________\n",
      "conv_pw_13_bn (BatchNormaliz (None, 7, 7, 1024)        4096      \n",
      "_________________________________________________________________\n",
      "conv_pw_13_relu (ReLU)       (None, 7, 7, 1024)        0         \n",
      "_________________________________________________________________\n",
      "global_average_pooling2d_1 ( (None, 1024)              0         \n",
      "_________________________________________________________________\n",
      "reshape_1 (Reshape)          (None, 1, 1, 1024)        0         \n",
      "_________________________________________________________________\n",
      "dropout (Dropout)            (None, 1, 1, 1024)        0         \n",
      "_________________________________________________________________\n",
      "conv_preds (Conv2D)          (None, 1, 1, 1000)        1025000   \n",
      "_________________________________________________________________\n",
      "act_softmax (Activation)     (None, 1, 1, 1000)        0         \n",
      "_________________________________________________________________\n",
      "reshape_2 (Reshape)          (None, 1000)              0         \n",
      "=================================================================\n",
      "Total params: 4,253,864\n",
      "Trainable params: 4,231,976\n",
      "Non-trainable params: 21,888\n",
      "_________________________________________________________________\n"
     ]
    }
   ],
   "source": [
    "mobile.summary()"
   ]
  },
  {
   "cell_type": "code",
   "execution_count": 12,
   "metadata": {},
   "outputs": [],
   "source": [
    "x = mobile.layers[-6].output\n",
    "prediction = Dense(10,activation='softmax')(x)\n"
   ]
  },
  {
   "cell_type": "code",
   "execution_count": 13,
   "metadata": {},
   "outputs": [
    {
     "name": "stderr",
     "output_type": "stream",
     "text": [
      "/home/v-nitin.gupta/anaconda3/lib/python3.7/site-packages/ipykernel_launcher.py:1: UserWarning: Update your `Model` call to the Keras 2 API: `Model(inputs=Tensor(\"in..., outputs=Tensor(\"de...)`\n",
      "  \"\"\"Entry point for launching an IPython kernel.\n"
     ]
    }
   ],
   "source": [
    "model = Model(input=mobile.input,output= prediction )"
   ]
  },
  {
   "cell_type": "markdown",
   "metadata": {},
   "source": [
    "# Choosing Last 23 layer to train model "
   ]
  },
  {
   "cell_type": "code",
   "execution_count": 14,
   "metadata": {},
   "outputs": [],
   "source": [
    "for layer in model.layers[:-26]:\n",
    "    layer.trainable = False\n"
   ]
  },
  {
   "cell_type": "code",
   "execution_count": 15,
   "metadata": {},
   "outputs": [],
   "source": [
    "model.compile(Adam(0.001),loss = categorical_crossentropy,metrics=[\"accuracy\"])"
   ]
  },
  {
   "cell_type": "code",
   "execution_count": 16,
   "metadata": {},
   "outputs": [
    {
     "name": "stdout",
     "output_type": "stream",
     "text": [
      "WARNING:tensorflow:From /home/v-nitin.gupta/anaconda3/lib/python3.7/site-packages/tensorflow/python/ops/math_ops.py:3066: to_int32 (from tensorflow.python.ops.math_ops) is deprecated and will be removed in a future version.\n",
      "Instructions for updating:\n",
      "Use tf.cast instead.\n",
      "Epoch 1/60\n",
      " - 19s - loss: 2.0900 - acc: 0.4000 - val_loss: 2.7184 - val_acc: 0.2222\n",
      "Epoch 2/60\n",
      " - 17s - loss: 1.2917 - acc: 0.6250 - val_loss: 3.2477 - val_acc: 0.3111\n",
      "Epoch 3/60\n",
      " - 17s - loss: 1.1897 - acc: 0.6250 - val_loss: 3.3034 - val_acc: 0.3667\n",
      "Epoch 4/60\n",
      " - 17s - loss: 0.9706 - acc: 0.6750 - val_loss: 3.9602 - val_acc: 0.3500\n",
      "Epoch 5/60\n",
      " - 17s - loss: 1.3423 - acc: 0.7000 - val_loss: 4.2690 - val_acc: 0.2556\n",
      "Epoch 6/60\n",
      " - 17s - loss: 0.8195 - acc: 0.7500 - val_loss: 3.7319 - val_acc: 0.3111\n",
      "Epoch 7/60\n",
      " - 17s - loss: 0.7816 - acc: 0.7000 - val_loss: 3.1026 - val_acc: 0.3222\n",
      "Epoch 8/60\n",
      " - 17s - loss: 0.6866 - acc: 0.8000 - val_loss: 2.2487 - val_acc: 0.5056\n",
      "Epoch 9/60\n",
      " - 17s - loss: 0.2699 - acc: 0.9000 - val_loss: 2.3130 - val_acc: 0.4556\n",
      "Epoch 10/60\n",
      " - 17s - loss: 0.2284 - acc: 0.9000 - val_loss: 2.5172 - val_acc: 0.4611\n",
      "Epoch 11/60\n",
      " - 17s - loss: 0.5066 - acc: 0.8000 - val_loss: 2.4001 - val_acc: 0.5056\n",
      "Epoch 12/60\n",
      " - 17s - loss: 0.2836 - acc: 0.9000 - val_loss: 1.8909 - val_acc: 0.5889\n",
      "Epoch 13/60\n",
      " - 17s - loss: 1.0588 - acc: 0.7250 - val_loss: 1.2020 - val_acc: 0.6944\n",
      "Epoch 14/60\n",
      " - 17s - loss: 0.4399 - acc: 0.8500 - val_loss: 0.6937 - val_acc: 0.7722\n",
      "Epoch 15/60\n",
      " - 17s - loss: 0.3906 - acc: 0.8750 - val_loss: 0.5748 - val_acc: 0.8111\n",
      "Epoch 16/60\n",
      " - 17s - loss: 0.5289 - acc: 0.8000 - val_loss: 0.2968 - val_acc: 0.9000\n",
      "Epoch 17/60\n",
      " - 17s - loss: 0.1117 - acc: 0.9500 - val_loss: 0.1257 - val_acc: 0.9556\n",
      "Epoch 18/60\n",
      " - 17s - loss: 0.1900 - acc: 0.9500 - val_loss: 0.1188 - val_acc: 0.9722\n",
      "Epoch 19/60\n",
      " - 17s - loss: 0.2045 - acc: 0.9250 - val_loss: 0.1763 - val_acc: 0.9444\n",
      "Epoch 20/60\n",
      " - 17s - loss: 0.2382 - acc: 0.9250 - val_loss: 0.0994 - val_acc: 0.9722\n",
      "Epoch 21/60\n",
      " - 17s - loss: 0.1626 - acc: 0.9500 - val_loss: 0.0995 - val_acc: 0.9667\n",
      "Epoch 22/60\n",
      " - 17s - loss: 0.1146 - acc: 0.9750 - val_loss: 0.1907 - val_acc: 0.9278\n",
      "Epoch 23/60\n",
      " - 17s - loss: 0.3172 - acc: 0.9000 - val_loss: 0.1514 - val_acc: 0.9444\n",
      "Epoch 24/60\n",
      " - 17s - loss: 0.1747 - acc: 0.9500 - val_loss: 0.1751 - val_acc: 0.9333\n",
      "Epoch 25/60\n",
      " - 17s - loss: 0.1104 - acc: 0.9750 - val_loss: 0.1431 - val_acc: 0.9389\n",
      "Epoch 26/60\n",
      " - 17s - loss: 0.0283 - acc: 1.0000 - val_loss: 0.1667 - val_acc: 0.9500\n",
      "Epoch 27/60\n",
      " - 17s - loss: 0.3463 - acc: 0.9250 - val_loss: 0.1977 - val_acc: 0.9389\n",
      "Epoch 28/60\n",
      " - 17s - loss: 0.2071 - acc: 0.9500 - val_loss: 0.0600 - val_acc: 0.9833\n",
      "Epoch 29/60\n",
      " - 17s - loss: 0.0718 - acc: 0.9750 - val_loss: 0.0778 - val_acc: 0.9778\n",
      "Epoch 30/60\n",
      " - 17s - loss: 0.2705 - acc: 0.8750 - val_loss: 0.1044 - val_acc: 0.9722\n",
      "Epoch 31/60\n",
      " - 17s - loss: 0.0971 - acc: 0.9500 - val_loss: 0.1298 - val_acc: 0.9444\n",
      "Epoch 32/60\n",
      " - 17s - loss: 0.1833 - acc: 0.9000 - val_loss: 0.1465 - val_acc: 0.9500\n",
      "Epoch 33/60\n",
      " - 17s - loss: 0.3530 - acc: 0.8750 - val_loss: 0.0872 - val_acc: 0.9667\n",
      "Epoch 34/60\n",
      " - 17s - loss: 0.1860 - acc: 0.9250 - val_loss: 0.0751 - val_acc: 0.9833\n",
      "Epoch 35/60\n",
      " - 17s - loss: 0.2616 - acc: 0.8500 - val_loss: 0.0993 - val_acc: 0.9889\n",
      "Epoch 36/60\n",
      " - 17s - loss: 0.1448 - acc: 0.9500 - val_loss: 0.1838 - val_acc: 0.9333\n",
      "Epoch 37/60\n",
      " - 17s - loss: 0.1498 - acc: 0.9500 - val_loss: 0.1598 - val_acc: 0.9556\n",
      "Epoch 38/60\n",
      " - 17s - loss: 0.3098 - acc: 0.9000 - val_loss: 0.1583 - val_acc: 0.9500\n",
      "Epoch 39/60\n",
      " - 17s - loss: 0.5383 - acc: 0.9250 - val_loss: 0.1156 - val_acc: 0.9667\n",
      "Epoch 40/60\n",
      " - 17s - loss: 0.1124 - acc: 0.9500 - val_loss: 0.1660 - val_acc: 0.9222\n",
      "Epoch 41/60\n",
      " - 17s - loss: 0.5523 - acc: 0.8750 - val_loss: 0.2311 - val_acc: 0.9111\n",
      "Epoch 42/60\n",
      " - 17s - loss: 0.2661 - acc: 0.9000 - val_loss: 0.4266 - val_acc: 0.8389\n",
      "Epoch 43/60\n",
      " - 16s - loss: 0.3773 - acc: 0.7887 - val_loss: 0.6326 - val_acc: 0.7778\n",
      "Epoch 44/60\n",
      " - 17s - loss: 0.2857 - acc: 0.9250 - val_loss: 0.6048 - val_acc: 0.8056\n",
      "Epoch 45/60\n",
      " - 17s - loss: 0.1719 - acc: 0.9250 - val_loss: 0.4407 - val_acc: 0.8222\n",
      "Epoch 46/60\n",
      " - 17s - loss: 0.2583 - acc: 0.9750 - val_loss: 0.4939 - val_acc: 0.8556\n",
      "Epoch 47/60\n",
      " - 17s - loss: 0.2737 - acc: 0.9500 - val_loss: 0.6921 - val_acc: 0.8444\n",
      "Epoch 48/60\n",
      " - 17s - loss: 0.0624 - acc: 0.9750 - val_loss: 0.7135 - val_acc: 0.8389\n",
      "Epoch 49/60\n",
      " - 17s - loss: 0.2436 - acc: 0.9500 - val_loss: 0.5669 - val_acc: 0.9000\n",
      "Epoch 50/60\n",
      " - 17s - loss: 0.0864 - acc: 0.9750 - val_loss: 0.5527 - val_acc: 0.8611\n",
      "Epoch 51/60\n",
      " - 17s - loss: 0.0663 - acc: 0.9750 - val_loss: 0.4068 - val_acc: 0.8889\n",
      "Epoch 52/60\n",
      " - 17s - loss: 0.0585 - acc: 0.9750 - val_loss: 0.2787 - val_acc: 0.8889\n",
      "Epoch 53/60\n",
      " - 17s - loss: 0.0111 - acc: 1.0000 - val_loss: 0.2773 - val_acc: 0.9056\n",
      "Epoch 54/60\n",
      " - 17s - loss: 0.0910 - acc: 0.9500 - val_loss: 0.2372 - val_acc: 0.8944\n",
      "Epoch 55/60\n",
      " - 17s - loss: 0.0594 - acc: 0.9750 - val_loss: 0.2736 - val_acc: 0.9056\n",
      "Epoch 56/60\n",
      " - 17s - loss: 0.0403 - acc: 0.9750 - val_loss: 0.4168 - val_acc: 0.8389\n",
      "Epoch 57/60\n",
      " - 18s - loss: 0.1443 - acc: 0.9250 - val_loss: 0.3546 - val_acc: 0.8778\n",
      "Epoch 58/60\n",
      " - 20s - loss: 0.0144 - acc: 1.0000 - val_loss: 0.3051 - val_acc: 0.8889\n",
      "Epoch 59/60\n",
      " - 18s - loss: 0.0218 - acc: 1.0000 - val_loss: 0.3262 - val_acc: 0.8833\n",
      "Epoch 60/60\n",
      " - 21s - loss: 0.0106 - acc: 1.0000 - val_loss: 0.2372 - val_acc: 0.9056\n"
     ]
    },
    {
     "data": {
      "text/plain": [
       "<keras.callbacks.History at 0x7f9563429f98>"
      ]
     },
     "execution_count": 16,
     "metadata": {},
     "output_type": "execute_result"
    }
   ],
   "source": [
    "model.fit_generator(train_batches,steps_per_epoch=4,validation_data=validation_batches,validation_steps= 18,epochs=60,verbose=2)"
   ]
  },
  {
   "cell_type": "markdown",
   "metadata": {},
   "source": [
    "# predict Sign-Language-Digits"
   ]
  },
  {
   "cell_type": "code",
   "execution_count": 22,
   "metadata": {},
   "outputs": [],
   "source": [
    "test_lable = test_batches.classes"
   ]
  },
  {
   "cell_type": "code",
   "execution_count": 23,
   "metadata": {},
   "outputs": [
    {
     "data": {
      "text/plain": [
       "array([0, 0, 0, 0, 0, 1, 1, 1, 1, 1, 2, 2, 2, 2, 2, 3, 3, 3, 3, 3, 4, 4,\n",
       "       4, 4, 4, 5, 5, 5, 5, 5, 6, 6, 6, 6, 6, 7, 7, 7, 7, 7, 8, 8, 8, 8,\n",
       "       8, 9, 9, 9, 9, 9], dtype=int32)"
      ]
     },
     "execution_count": 23,
     "metadata": {},
     "output_type": "execute_result"
    }
   ],
   "source": [
    "test_lable"
   ]
  },
  {
   "cell_type": "code",
   "execution_count": 24,
   "metadata": {},
   "outputs": [],
   "source": [
    "predictions = model.predict_generator(test_batches,steps=5,verbose=0)"
   ]
  },
  {
   "cell_type": "code",
   "execution_count": 39,
   "metadata": {},
   "outputs": [],
   "source": [
    "cm = confusion_matrix(test_labels,predictions.argmax(axis=0))"
   ]
  },
  {
   "cell_type": "code",
   "execution_count": 27,
   "metadata": {},
   "outputs": [
    {
     "data": {
      "text/plain": [
       "{'0': 0,\n",
       " '1': 1,\n",
       " '2': 2,\n",
       " '3': 3,\n",
       " '4': 4,\n",
       " '5': 5,\n",
       " '6': 6,\n",
       " '7': 7,\n",
       " '8': 8,\n",
       " '9': 9}"
      ]
     },
     "execution_count": 27,
     "metadata": {},
     "output_type": "execute_result"
    }
   ],
   "source": [
    "test_batches.class_indices"
   ]
  },
  {
   "cell_type": "code",
   "execution_count": 29,
   "metadata": {},
   "outputs": [],
   "source": [
    "\n"
   ]
  },
  {
   "cell_type": "code",
   "execution_count": null,
   "metadata": {},
   "outputs": [],
   "source": []
  }
 ],
 "metadata": {
  "kernelspec": {
   "display_name": "Python 3",
   "language": "python",
   "name": "python3"
  },
  "language_info": {
   "codemirror_mode": {
    "name": "ipython",
    "version": 3
   },
   "file_extension": ".py",
   "mimetype": "text/x-python",
   "name": "python",
   "nbconvert_exporter": "python",
   "pygments_lexer": "ipython3",
   "version": "3.7.1"
  }
 },
 "nbformat": 4,
 "nbformat_minor": 2
}
